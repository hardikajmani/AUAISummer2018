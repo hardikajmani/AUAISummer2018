{
  "nbformat": 4,
  "nbformat_minor": 0,
  "metadata": {
    "colab": {
      "name": "boston house prediction.ipynb",
      "version": "0.3.2",
      "provenance": [],
      "include_colab_link": true
    },
    "kernelspec": {
      "name": "python3",
      "display_name": "Python 3"
    }
  },
  "cells": [
    {
      "cell_type": "markdown",
      "metadata": {
        "id": "view-in-github",
        "colab_type": "text"
      },
      "source": [
        "[View in Colaboratory](https://colab.research.google.com/github/hardikajmani/AUAISummer2018/blob/master/day3-July5/boston_house_prediction.ipynb)"
      ]
    },
    {
      "metadata": {
        "id": "pwswn-v1hD6k",
        "colab_type": "code",
        "colab": {}
      },
      "cell_type": "code",
      "source": [
        "import sklearn\n",
        "import numpy as np\n",
        "import pandas as pd\n",
        "from sklearn.model_selection import train_test_split\n",
        "from sklearn import datasets\n",
        "import time\n",
        "from sklearn.preprocessing import StandardScaler\n"
      ],
      "execution_count": 0,
      "outputs": []
    },
    {
      "metadata": {
        "id": "CYNvfRxlkHl8",
        "colab_type": "code",
        "colab": {
          "base_uri": "https://localhost:8080/",
          "height": 34
        },
        "outputId": "b655bf34-d30b-4257-dd43-6e600770b8aa"
      },
      "cell_type": "code",
      "source": [
        "#loading datasets\n",
        "boston = datasets.load_boston()\n",
        "X = boston.data[:,:-1]\n",
        "print(X.shape)\n",
        "df = pd.DataFrame(boston.data, columns=boston.feature_names)\n",
        "df['target'] = boston.target\n",
        "\n",
        "Y = df['target'].values\n",
        "\n",
        "\n",
        "StandardScaler().fit(X)\n",
        "\n",
        "X_train, X_test, y_train, y_test = train_test_split(X, Y, test_size=0.333)\n"
      ],
      "execution_count": 50,
      "outputs": [
        {
          "output_type": "stream",
          "text": [
            "(506, 12)\n"
          ],
          "name": "stdout"
        }
      ]
    },
    {
      "metadata": {
        "id": "OYNmiHqooDPN",
        "colab_type": "code",
        "colab": {}
      },
      "cell_type": "code",
      "source": [
        "from sklearn.metrics import r2_score, log_loss\n",
        "\n",
        "\n",
        "def print_accuracy(f):\n",
        "    print(\"Accuracy = {0}%\".format(100 - abs(100*np.sum(f.predict(X_test) - y_test))/len(y_test)))\n",
        "    print(\"R2_Score = {0}\".format(r2_score(f.predict(X_test),y_test)))\n",
        "        "
      ],
      "execution_count": 0,
      "outputs": []
    },
    {
      "metadata": {
        "id": "CR8MtZhaoO4P",
        "colab_type": "code",
        "colab": {
          "base_uri": "https://localhost:8080/",
          "height": 51
        },
        "outputId": "a58f7bb3-b482-4f9c-d31d-ce517f32ae37"
      },
      "cell_type": "code",
      "source": [
        "from sklearn.linear_model import LinearRegression\n",
        "\n",
        "lnr = LinearRegression().fit(X_train, y_train)\n",
        "print_accuracy(lnr)"
      ],
      "execution_count": 57,
      "outputs": [
        {
          "output_type": "stream",
          "text": [
            "Accuracy = 87.81981044897256%\n",
            "R2_Score = 0.4920816939412517\n"
          ],
          "name": "stdout"
        }
      ]
    },
    {
      "metadata": {
        "id": "h6Z3AW2M-_3x",
        "colab_type": "code",
        "colab": {
          "base_uri": "https://localhost:8080/",
          "height": 51
        },
        "outputId": "20af5379-f79f-4e6c-a29b-a8f033257de9"
      },
      "cell_type": "code",
      "source": [
        "from sklearn.neural_network import MLPRegressor\n",
        "mlp = MLPRegressor(hidden_layer_sizes=(12,100,12,12,3), max_iter=5000, learning_rate='adaptive').fit(X_train, y_train)\n",
        "print_accuracy(mlp)"
      ],
      "execution_count": 80,
      "outputs": [
        {
          "output_type": "stream",
          "text": [
            "Accuracy = 58.56575366714255%\n",
            "R2_Score = -0.3867754422564327\n"
          ],
          "name": "stdout"
        }
      ]
    },
    {
      "metadata": {
        "id": "i-rBFDWoTN6Y",
        "colab_type": "code",
        "colab": {}
      },
      "cell_type": "code",
      "source": [
        ""
      ],
      "execution_count": 0,
      "outputs": []
    }
  ]
}