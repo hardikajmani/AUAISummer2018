{
 "cells": [
  {
   "cell_type": "markdown",
   "metadata": {},
   "source": [
    "### AUAI Summer-Python Basic (3):URL, HTTP and HTML\n",
    "* reference 1 https://docs.python.org/3/library/internet.html\n",
    "* reference 2 https://docs.python.org/3/library/markup.html"
   ]
  },
  {
   "cell_type": "markdown",
   "metadata": {},
   "source": [
    "## Step 1: import urllib.request\n",
    "https://pythonspot.com/urllib-tutorial-python-3/\n",
    "* urllib.request.Request()\n",
    "* urllib.request.urlopen()\n",
    "* req = urllib.request.Request('https://arstechnica.com', headers = headers)\n",
    "* html = urllib.request.urlopen(req).read()"
   ]
  },
  {
   "cell_type": "code",
   "execution_count": 3,
   "metadata": {},
   "outputs": [],
   "source": [
    "import urllib.request\n",
    "\n",
    "html = urllib.request.urlopen(\"http://www.asia.edu.tw/EN/news1.php\").read()\n",
    "#print(html)"
   ]
  },
  {
   "cell_type": "markdown",
   "metadata": {},
   "source": [
    "## Step 2:urllib.response\n",
    "*urllib.response.read().decode('utf-8')\n"
   ]
  },
  {
   "cell_type": "code",
   "execution_count": null,
   "metadata": {},
   "outputs": [],
   "source": []
  },
  {
   "cell_type": "markdown",
   "metadata": {},
   "source": [
    "## Step 3: http.client"
   ]
  },
  {
   "cell_type": "code",
   "execution_count": null,
   "metadata": {},
   "outputs": [],
   "source": []
  },
  {
   "cell_type": "markdown",
   "metadata": {},
   "source": [
    "## Step 4: http.server\n"
   ]
  },
  {
   "cell_type": "code",
   "execution_count": null,
   "metadata": {},
   "outputs": [],
   "source": []
  },
  {
   "cell_type": "markdown",
   "metadata": {},
   "source": [
    "## Step 5: http.cookies"
   ]
  },
  {
   "cell_type": "code",
   "execution_count": null,
   "metadata": {},
   "outputs": [],
   "source": []
  },
  {
   "cell_type": "markdown",
   "metadata": {},
   "source": [
    "## Step 6: html.parser "
   ]
  },
  {
   "cell_type": "code",
   "execution_count": null,
   "metadata": {},
   "outputs": [],
   "source": []
  },
  {
   "cell_type": "markdown",
   "metadata": {},
   "source": [
    "## Step 7: BeautifulSoup\n",
    "https://www.crummy.com/software/BeautifulSoup/bs4/doc/\n",
    "*pip install beautifulsoup4\n",
    "*from bs4 import BeautifulSoup\n",
    "*soup = BeautifulSoup(html_doc, 'html.parser')"
   ]
  },
  {
   "cell_type": "code",
   "execution_count": 5,
   "metadata": {},
   "outputs": [
    {
     "name": "stdout",
     "output_type": "stream",
     "text": [
      "b'Works of Students from Creative Product Design Dept. at AU Win iF Design Awards in Germany'\n",
      "b'Asia University Is Ranked No. 6 in Top-20 Best School-Running Universities in Taiwan'\n",
      "b'AU Is Ranked Top 1 for 4th Year in MOE Award for International Art and Design Competitions.'\n",
      "b'A Delegation of Pusan National University from Korea Visited AU and Signed an Exchange MOU'\n"
     ]
    }
   ],
   "source": [
    "import urllib.request\n",
    "import re \n",
    "html = urllib.request.urlopen('http://www.asia.edu.tw/EN/news1.php').read()\n",
    "pattern = b'<font size=\"4\" color=\"#008080\" face=\"Arial\">ASIA Hot News</font>'\n",
    "for pos in re.finditer(pattern,html):\n",
    "    pos2 = html.find(b'</b></font>', pos.end())\n",
    "    sub = html[pos.end():pos2]\n",
    "    print(sub)"
   ]
  },
  {
   "cell_type": "markdown",
   "metadata": {},
   "source": [
    "## Step 8"
   ]
  },
  {
   "cell_type": "code",
   "execution_count": null,
   "metadata": {},
   "outputs": [],
   "source": []
  },
  {
   "cell_type": "markdown",
   "metadata": {},
   "source": [
    "## Step 9"
   ]
  },
  {
   "cell_type": "code",
   "execution_count": null,
   "metadata": {},
   "outputs": [],
   "source": []
  },
  {
   "cell_type": "markdown",
   "metadata": {},
   "source": [
    "## Step 10"
   ]
  },
  {
   "cell_type": "code",
   "execution_count": null,
   "metadata": {},
   "outputs": [],
   "source": []
  }
 ],
 "metadata": {
  "kernelspec": {
   "display_name": "Python 3",
   "language": "python",
   "name": "python3"
  },
  "language_info": {
   "codemirror_mode": {
    "name": "ipython",
    "version": 3
   },
   "file_extension": ".py",
   "mimetype": "text/x-python",
   "name": "python",
   "nbconvert_exporter": "python",
   "pygments_lexer": "ipython3",
   "version": "3.6.5"
  }
 },
 "nbformat": 4,
 "nbformat_minor": 2
}
